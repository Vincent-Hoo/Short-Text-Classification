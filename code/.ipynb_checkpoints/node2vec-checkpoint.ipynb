{
 "cells": [
  {
   "cell_type": "code",
   "execution_count": 1,
   "metadata": {},
   "outputs": [],
   "source": [
    "import pandas as pd\n",
    "import numpy as np"
   ]
  },
  {
   "cell_type": "code",
   "execution_count": 2,
   "metadata": {},
   "outputs": [],
   "source": [
    "# parameters\n",
    "early_stop_threshold = 0.18\n",
    "p = 0.8\n",
    "q = 2.5\n",
    "l = 20\n",
    "r = 5"
   ]
  },
  {
   "cell_type": "code",
   "execution_count": 3,
   "metadata": {},
   "outputs": [],
   "source": [
    "data = pd.read_csv('../data/preliminary/cleaned_data.csv')\n",
    "vocab = pd.read_csv('../data/preliminary/vocab.txt')\n",
    "\n",
    "hash_map = dict()\n",
    "for index, row in vocab.iterrows():\n",
    "    hash_map[row['word']] = index\n",
    "vocab = vocab['word'].values"
   ]
  },
  {
   "cell_type": "code",
   "execution_count": 4,
   "metadata": {},
   "outputs": [],
   "source": [
    "# function: construct early stopwords list\n",
    "def construct_early_stopwords():\n",
    "    mid_map = np.zeros((vocab.shape[0], 5))\n",
    "    for index, row in data.iterrows():\n",
    "        if isinstance(row['words'], str):\n",
    "            word_list = row['words'].split('/')\n",
    "            score = row['Score']\n",
    "            for i in range(len(word_list)):\n",
    "                word = hash_map[word_list[i]]\n",
    "                mid_map[word][score-1] += 1\n",
    "    early_stopwords = [vocab[index] for index in np.where((mid_map.var(axis = 1) < early_stop_threshold) == True)[0].tolist()]\n",
    "    return early_stopwords, mid_map"
   ]
  },
  {
   "cell_type": "code",
   "execution_count": 5,
   "metadata": {},
   "outputs": [],
   "source": [
    "def construct_adajcent_matrix():\n",
    "    A = np.zeros((vocab.shape[0], vocab.shape[0]))\n",
    "    for index, row in data.iterrows():\n",
    "        if isinstance(row['words'], str):\n",
    "            word_list = row['words'].split('/')\n",
    "            for i in range(len(word_list) - 1):\n",
    "                word1 = hash_map[word_list[i]]\n",
    "                word2 = hash_map[word_list[i+1]]\n",
    "                if word1 != word2:\n",
    "                    A[word1][word2] += 1\n",
    "                    A[word2][word1] += 1\n",
    "                #else:\n",
    "                #    A[word1][word2] += 1\n",
    "    return A"
   ]
  },
  {
   "cell_type": "code",
   "execution_count": 6,
   "metadata": {},
   "outputs": [],
   "source": [
    "graph = construct_adajcent_matrix()"
   ]
  },
  {
   "cell_type": "code",
   "execution_count": 7,
   "metadata": {},
   "outputs": [
    {
     "data": {
      "text/plain": [
       "39307"
      ]
     },
     "execution_count": 7,
     "metadata": {},
     "output_type": "execute_result"
    }
   ],
   "source": [
    "early_stopwords, mid_map = construct_early_stopwords()\n",
    "len(early_stopwords)"
   ]
  },
  {
   "cell_type": "code",
   "execution_count": 8,
   "metadata": {},
   "outputs": [
    {
     "data": {
      "text/plain": [
       "['刁民', '省略', '花太多', '16.1', '挂牌', '660', '外圈', '猜测', '宰人', '如图所示']"
      ]
     },
     "execution_count": 8,
     "metadata": {},
     "output_type": "execute_result"
    }
   ],
   "source": [
    "early_stopwords[0:10]"
   ]
  },
  {
   "cell_type": "code",
   "execution_count": 9,
   "metadata": {},
   "outputs": [
    {
     "data": {
      "text/plain": [
       "(array([0, 1, 3, 4]),)"
      ]
     },
     "execution_count": 9,
     "metadata": {},
     "output_type": "execute_result"
    }
   ],
   "source": [
    "np.where(mid_map[hash_map['挂牌']] != 0)"
   ]
  },
  {
   "cell_type": "code",
   "execution_count": 10,
   "metadata": {},
   "outputs": [
    {
     "name": "stdout",
     "output_type": "stream",
     "text": [
      "452.0\n",
      "452.0\n"
     ]
    },
    {
     "data": {
      "text/plain": [
       "array([    0,     1,     3, ..., 87511, 87512, 87661])"
      ]
     },
     "execution_count": 10,
     "metadata": {},
     "output_type": "execute_result"
    }
   ],
   "source": [
    "print(np.max(graph[3]))\n",
    "print(graph[3][45])\n",
    "np.where(graph[2] != 0)[0]"
   ]
  },
  {
   "cell_type": "code",
   "execution_count": 11,
   "metadata": {},
   "outputs": [
    {
     "name": "stdout",
     "output_type": "stream",
     "text": [
      "景区\n"
     ]
    },
    {
     "data": {
      "text/plain": [
       "0.0"
      ]
     },
     "execution_count": 11,
     "metadata": {},
     "output_type": "execute_result"
    }
   ],
   "source": [
    "i = 3\n",
    "print(vocab[i])\n",
    "graph[i][i]"
   ]
  },
  {
   "cell_type": "code",
   "execution_count": 33,
   "metadata": {},
   "outputs": [],
   "source": [
    "def find_next_ver(graph,cur_ver, last_cur):\n",
    "    if last_cur == -1:\n",
    "        return np.where(graph[cur_ver] == np.max(graph[cur_ver]))[0][0]\n",
    "    \n",
    "    cur_ver_neighbors = np.where(graph[cur_ver] != 0)[0]\n",
    "    last_ver_neighbors = np.where(graph[last_cur] != 0)[0]\n",
    "    max_edge = -1\n",
    "    max_ver = -1\n",
    "    for ver in cur_ver_neighbors:\n",
    "        weight = graph[cur_ver][ver]\n",
    "        if ver == last_cur:\n",
    "            weight = float(weight) / p\n",
    "        elif ver not in last_ver_neighbors:\n",
    "            weight = float(weight) / q\n",
    "        if max_edge < weight:\n",
    "            max_edge = weight\n",
    "            max_ver = ver\n",
    "    return max_ver\n",
    "        "
   ]
  },
  {
   "cell_type": "code",
   "execution_count": 34,
   "metadata": {},
   "outputs": [],
   "source": [
    "import time\n",
    "def random_walk(graph):\n",
    "    Sequences = []\n",
    "    vertex_num = graph.shape[0]\n",
    "    for vertex in range(vertex_num):\n",
    "        print(vertex)\n",
    "        word = vocab[vertex]\n",
    "        if word in early_stopwords:\n",
    "            continue\n",
    "        for walk_iter in range(r):\n",
    "            sequence = [word]\n",
    "            for step_iter in range(l):\n",
    "                cur_ver = hash_map[sequence[-1]]\n",
    "                last_ver = hash_map[sequence[-2]] if step_iter >= 1 else -1\n",
    "                \n",
    "                next_ver = find_next_ver(graph, cur_ver, last_ver)\n",
    "                \n",
    "                if next_ver in early_stopwords:\n",
    "                    break\n",
    "                else:\n",
    "                    sequence.append(vocab[next_ver])\n",
    "            Sequences.append('/'.join(sequence))\n",
    "    return Sequences"
   ]
  },
  {
   "cell_type": "code",
   "execution_count": 36,
   "metadata": {},
   "outputs": [
    {
     "name": "stdout",
     "output_type": "stream",
     "text": [
      "0\n",
      "1\n",
      "2\n",
      "38.57426977157593\n"
     ]
    }
   ],
   "source": [
    "graph = np.array([[0,1,1], [1,0,1], [1,1,0]])\n",
    "begin = time.time()\n",
    "sequences = random_walk(graph)\n",
    "end = time.time()\n",
    "print(end - begin)"
   ]
  },
  {
   "cell_type": "code",
   "execution_count": 19,
   "metadata": {},
   "outputs": [
    {
     "data": {
      "text/plain": [
       "['好/不错/好/不错/好/不错/好/不错/好/不错/好/不错/好/不错/好/不错/好/不错/好/不错/好',\n",
       " '好/不错/好/不错/好/不错/好/不错/好/不错/好/不错/好/不错/好/不错/好/不错/好/不错/好',\n",
       " '好/不错/好/不错/好/不错/好/不错/好/不错/好/不错/好/不错/好/不错/好/不错/好/不错/好',\n",
       " '好/不错/好/不错/好/不错/好/不错/好/不错/好/不错/好/不错/好/不错/好/不错/好/不错/好',\n",
       " '好/不错/好/不错/好/不错/好/不错/好/不错/好/不错/好/不错/好/不错/好/不错/好/不错/好',\n",
       " '不错/好/不错/好/不错/好/不错/好/不错/好/不错/好/不错/好/不错/好/不错/好/不错/好/不错',\n",
       " '不错/好/不错/好/不错/好/不错/好/不错/好/不错/好/不错/好/不错/好/不错/好/不错/好/不错',\n",
       " '不错/好/不错/好/不错/好/不错/好/不错/好/不错/好/不错/好/不错/好/不错/好/不错/好/不错',\n",
       " '不错/好/不错/好/不错/好/不错/好/不错/好/不错/好/不错/好/不错/好/不错/好/不错/好/不错',\n",
       " '不错/好/不错/好/不错/好/不错/好/不错/好/不错/好/不错/好/不错/好/不错/好/不错/好/不错',\n",
       " '地方/好/地方/好/地方/好/地方/好/地方/好/地方/好/地方/好/地方/好/地方/好/地方/好/地方',\n",
       " '地方/好/地方/好/地方/好/地方/好/地方/好/地方/好/地方/好/地方/好/地方/好/地方/好/地方',\n",
       " '地方/好/地方/好/地方/好/地方/好/地方/好/地方/好/地方/好/地方/好/地方/好/地方/好/地方',\n",
       " '地方/好/地方/好/地方/好/地方/好/地方/好/地方/好/地方/好/地方/好/地方/好/地方/好/地方',\n",
       " '地方/好/地方/好/地方/好/地方/好/地方/好/地方/好/地方/好/地方/好/地方/好/地方/好/地方']"
      ]
     },
     "execution_count": 19,
     "metadata": {},
     "output_type": "execute_result"
    }
   ],
   "source": [
    "sequences\n"
   ]
  },
  {
   "cell_type": "code",
   "execution_count": 26,
   "metadata": {},
   "outputs": [],
   "source": [
    "df = pd.DataFrame(sequences, columns = ['sequence'])"
   ]
  },
  {
   "cell_type": "code",
   "execution_count": 27,
   "metadata": {},
   "outputs": [
    {
     "data": {
      "text/plain": [
       "(15, 1)"
      ]
     },
     "execution_count": 27,
     "metadata": {},
     "output_type": "execute_result"
    }
   ],
   "source": [
    "df.shape"
   ]
  },
  {
   "cell_type": "code",
   "execution_count": 28,
   "metadata": {},
   "outputs": [
    {
     "data": {
      "text/html": [
       "<div>\n",
       "<style scoped>\n",
       "    .dataframe tbody tr th:only-of-type {\n",
       "        vertical-align: middle;\n",
       "    }\n",
       "\n",
       "    .dataframe tbody tr th {\n",
       "        vertical-align: top;\n",
       "    }\n",
       "\n",
       "    .dataframe thead th {\n",
       "        text-align: right;\n",
       "    }\n",
       "</style>\n",
       "<table border=\"1\" class=\"dataframe\">\n",
       "  <thead>\n",
       "    <tr style=\"text-align: right;\">\n",
       "      <th></th>\n",
       "      <th>sequenc</th>\n",
       "    </tr>\n",
       "  </thead>\n",
       "  <tbody>\n",
       "    <tr>\n",
       "      <th>0</th>\n",
       "      <td>好/不错/好/不错/好/不错/好/不错/好/不错/好/不错/好/不错/好/不错/好/不错/好...</td>\n",
       "    </tr>\n",
       "    <tr>\n",
       "      <th>1</th>\n",
       "      <td>好/不错/好/不错/好/不错/好/不错/好/不错/好/不错/好/不错/好/不错/好/不错/好...</td>\n",
       "    </tr>\n",
       "    <tr>\n",
       "      <th>2</th>\n",
       "      <td>好/不错/好/不错/好/不错/好/不错/好/不错/好/不错/好/不错/好/不错/好/不错/好...</td>\n",
       "    </tr>\n",
       "    <tr>\n",
       "      <th>3</th>\n",
       "      <td>好/不错/好/不错/好/不错/好/不错/好/不错/好/不错/好/不错/好/不错/好/不错/好...</td>\n",
       "    </tr>\n",
       "    <tr>\n",
       "      <th>4</th>\n",
       "      <td>好/不错/好/不错/好/不错/好/不错/好/不错/好/不错/好/不错/好/不错/好/不错/好...</td>\n",
       "    </tr>\n",
       "  </tbody>\n",
       "</table>\n",
       "</div>"
      ],
      "text/plain": [
       "                                             sequenc\n",
       "0  好/不错/好/不错/好/不错/好/不错/好/不错/好/不错/好/不错/好/不错/好/不错/好...\n",
       "1  好/不错/好/不错/好/不错/好/不错/好/不错/好/不错/好/不错/好/不错/好/不错/好...\n",
       "2  好/不错/好/不错/好/不错/好/不错/好/不错/好/不错/好/不错/好/不错/好/不错/好...\n",
       "3  好/不错/好/不错/好/不错/好/不错/好/不错/好/不错/好/不错/好/不错/好/不错/好...\n",
       "4  好/不错/好/不错/好/不错/好/不错/好/不错/好/不错/好/不错/好/不错/好/不错/好..."
      ]
     },
     "execution_count": 28,
     "metadata": {},
     "output_type": "execute_result"
    }
   ],
   "source": [
    "df.head()"
   ]
  },
  {
   "cell_type": "code",
   "execution_count": null,
   "metadata": {},
   "outputs": [],
   "source": []
  }
 ],
 "metadata": {
  "kernelspec": {
   "display_name": "Python 3",
   "language": "python",
   "name": "python3"
  },
  "language_info": {
   "codemirror_mode": {
    "name": "ipython",
    "version": 3
   },
   "file_extension": ".py",
   "mimetype": "text/x-python",
   "name": "python",
   "nbconvert_exporter": "python",
   "pygments_lexer": "ipython3",
   "version": "3.6.4"
  }
 },
 "nbformat": 4,
 "nbformat_minor": 2
}
